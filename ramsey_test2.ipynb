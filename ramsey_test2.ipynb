{
 "cells": [
  {
   "cell_type": "code",
   "execution_count": 1,
   "id": "3d98dc8b-aa4e-4c5c-a286-a97187b64734",
   "metadata": {},
   "outputs": [],
   "source": [
    "import function_ramsey_numbers as ram"
   ]
  },
  {
   "cell_type": "code",
   "execution_count": 2,
   "id": "6d6df010-de53-472c-9f18-5b726a0b6420",
   "metadata": {},
   "outputs": [
    {
     "name": "stdout",
     "output_type": "stream",
     "text": [
      "3\n",
      "CPU times: user 5.75 ms, sys: 2.46 ms, total: 8.21 ms\n",
      "Wall time: 11.6 ms\n"
     ]
    }
   ],
   "source": [
    "%%time\n",
    "p = ram.Rams_comp_update4(2,3)\n",
    "print(p)"
   ]
  },
  {
   "cell_type": "code",
   "execution_count": 3,
   "id": "d33bcdf0-8277-4889-adc4-82d70f2a867d",
   "metadata": {},
   "outputs": [
    {
     "name": "stdout",
     "output_type": "stream",
     "text": [
      "CPU times: user 12 µs, sys: 2 µs, total: 14 µs\n",
      "Wall time: 19.3 µs\n"
     ]
    }
   ],
   "source": [
    "%%time\n",
    "r11 = ram.Rams_comp_update4(1,1)\n",
    "r12 = ram.Rams_comp_update4(1,2)\n",
    "r13 = ram.Rams_comp_update4(1,3)\n",
    "r14 = ram.Rams_comp_update4(1,4)"
   ]
  },
  {
   "cell_type": "code",
   "execution_count": 4,
   "id": "48f4d205-542a-4162-a2e6-e7d44ea86c7d",
   "metadata": {},
   "outputs": [
    {
     "name": "stdout",
     "output_type": "stream",
     "text": [
      "CPU times: user 30.8 ms, sys: 3.54 ms, total: 34.3 ms\n",
      "Wall time: 41.8 ms\n"
     ]
    }
   ],
   "source": [
    "%%time\n",
    "r21 = r12\n",
    "r22 = ram.Rams_comp_update4(2,2)\n",
    "r23 = ram.Rams_comp_update4(2,3)\n",
    "r24 = ram.Rams_comp_update4(2,4)"
   ]
  },
  {
   "cell_type": "code",
   "execution_count": 5,
   "id": "5e694be4-61e9-4f89-9938-a0d0a2df543e",
   "metadata": {},
   "outputs": [
    {
     "name": "stdout",
     "output_type": "stream",
     "text": [
      "CPU times: user 1min 10s, sys: 605 ms, total: 1min 11s\n",
      "Wall time: 1min 18s\n"
     ]
    }
   ],
   "source": [
    "%%time\n",
    "r31 = r13\n",
    "r32 = r23\n",
    "r33 = ram.Rams_comp_update4(3,3)"
   ]
  },
  {
   "cell_type": "code",
   "execution_count": 7,
   "id": "68d47898-6952-487c-be6a-a9ac12c94e22",
   "metadata": {},
   "outputs": [
    {
     "ename": "NameError",
     "evalue": "name 'r34' is not defined",
     "output_type": "error",
     "traceback": [
      "\u001b[0;31m---------------------------------------------------------------------------\u001b[0m",
      "\u001b[0;31mNameError\u001b[0m                                 Traceback (most recent call last)",
      "File \u001b[0;32m<timed exec>:3\u001b[0m\n",
      "\u001b[0;31mNameError\u001b[0m: name 'r34' is not defined"
     ]
    }
   ],
   "source": [
    "%%time\n",
    "r41 = r14\n",
    "r42 = r24\n",
    "r43 = r34\n",
    "#r44 = ram.Rams_comp_update4(4,4) "
   ]
  },
  {
   "cell_type": "code",
   "execution_count": 8,
   "id": "dfab9846-64bc-4116-abfb-2f2b43802ff8",
   "metadata": {},
   "outputs": [
    {
     "name": "stdout",
     "output_type": "stream",
     "text": [
      "+-------+--------+-------+-------+-----+\n",
      "|   l/r |  r = 1 | r = 2 | r = 3 | r=4 |\n",
      "+-------+--------+-------+-------+-----+\n",
      "| l = 1 |   1    |   1   |   1   |  1  |\n",
      "| l = 2 |   1    |   2   |   3   |  4  |\n",
      "| l = 3 |   1    |   3   |   6   | r34 |\n",
      "| l = 4 |   1    |   4   |  r43  | r44 |\n",
      "+-------+--------+-------+-------+-----+\n"
     ]
    }
   ],
   "source": [
    "from prettytable import PrettyTable\n",
    "\n",
    "# Create a PrettyTable object\n",
    "table = PrettyTable()\n",
    "\n",
    "# Define the column names\n",
    "table.field_names = [\" l/r\", \" r = 1\", \"r = 2\", \"r = 3\", \"r=4\"]\n",
    "\n",
    "# Add rows to the table\n",
    "table.add_row([\"l = 1\", r11 , r12, r13, r14 ])\n",
    "table.add_row([\"l = 2\", r21 , r22, r23, r24 ])\n",
    "table.add_row([\"l = 3\", r31 , r32, r33, 'r34' ])\n",
    "table.add_row([\"l = 4\", r41 , r42, 'r43', 'r44' ])\n",
    "\n",
    "# Print the table\n",
    "print(table)"
   ]
  },
  {
   "cell_type": "code",
   "execution_count": null,
   "id": "0c58dd80-5b9f-4771-8499-1297105d997f",
   "metadata": {},
   "outputs": [],
   "source": []
  }
 ],
 "metadata": {
  "kernelspec": {
   "display_name": "Python 3 (ipykernel)",
   "language": "python",
   "name": "python3"
  },
  "language_info": {
   "codemirror_mode": {
    "name": "ipython",
    "version": 3
   },
   "file_extension": ".py",
   "mimetype": "text/x-python",
   "name": "python",
   "nbconvert_exporter": "python",
   "pygments_lexer": "ipython3",
   "version": "3.11.7"
  }
 },
 "nbformat": 4,
 "nbformat_minor": 5
}
