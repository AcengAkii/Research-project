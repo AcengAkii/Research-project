{
 "cells": [
  {
   "cell_type": "code",
   "execution_count": 4,
   "id": "3eb646ab-9a87-444f-b9ba-59d5e707a29e",
   "metadata": {},
   "outputs": [
    {
     "data": {
      "text/html": [
       "\n",
       "<div style=\"display: flex; align-items: center;\">\n",
       "    <div style=\"flex: 1;\">\n",
       "        <img src=\"sample_plot.png\" width=\"250\">\n",
       "    </div>\n",
       "    <div style=\"flex: 1;\">\n",
       "        <table border=\"1\" class=\"dataframe\">\n",
       "  <thead>\n",
       "    <tr style=\"text-align: right;\">\n",
       "      <th>Name</th>\n",
       "      <th>Age</th>\n",
       "      <th>Country</th>\n",
       "    </tr>\n",
       "  </thead>\n",
       "  <tbody>\n",
       "    <tr>\n",
       "      <td>Alice</td>\n",
       "      <td>30</td>\n",
       "      <td>USA</td>\n",
       "    </tr>\n",
       "    <tr>\n",
       "      <td>Bob</td>\n",
       "      <td>25</td>\n",
       "      <td>Canada</td>\n",
       "    </tr>\n",
       "    <tr>\n",
       "      <td>Charlie</td>\n",
       "      <td>35</td>\n",
       "      <td>UK</td>\n",
       "    </tr>\n",
       "  </tbody>\n",
       "</table>\n",
       "    </div>\n",
       "</div>\n"
      ],
      "text/plain": [
       "<IPython.core.display.HTML object>"
      ]
     },
     "metadata": {},
     "output_type": "display_data"
    }
   ],
   "source": [
    "import matplotlib.pyplot as plt\n",
    "import pandas as pd\n",
    "from IPython.display import display, HTML\n",
    "\n",
    "# Create a sample plot\n",
    "fig, ax = plt.subplots(figsize=(3, 3))\n",
    "ax.plot([1, 2, 3], [4, 5, 6])\n",
    "plt.title('Sample Plot')\n",
    "plt.savefig('sample_plot.png')  # Save the figure to a file\n",
    "plt.close(fig)  # Close the figure after saving to avoid duplication\n",
    "\n",
    "# Create sample data\n",
    "data = {\n",
    "    'Name': ['Alice', 'Bob', 'Charlie'],\n",
    "    'Age': [30, 25, 35],\n",
    "    'Country': ['USA', 'Canada', 'UK']\n",
    "}\n",
    "\n",
    "# Convert the data to a DataFrame\n",
    "df = pd.DataFrame(data)\n",
    "\n",
    "# Display the figure and table side by side using HTML\n",
    "display(HTML(f\"\"\"\n",
    "<div style=\"display: flex; align-items: center;\">\n",
    "    <div style=\"flex: 1;\">\n",
    "        <img src=\"sample_plot.png\" width=\"250\">\n",
    "    </div>\n",
    "    <div style=\"flex: 1;\">\n",
    "        {df.to_html(index=False)}\n",
    "    </div>\n",
    "</div>\n",
    "\"\"\"))\n"
   ]
  },
  {
   "cell_type": "code",
   "execution_count": null,
   "id": "29d303d0-897a-4d52-b49b-80cfaffafceb",
   "metadata": {},
   "outputs": [],
   "source": []
  }
 ],
 "metadata": {
  "kernelspec": {
   "display_name": "Python 3 (ipykernel)",
   "language": "python",
   "name": "python3"
  },
  "language_info": {
   "codemirror_mode": {
    "name": "ipython",
    "version": 3
   },
   "file_extension": ".py",
   "mimetype": "text/x-python",
   "name": "python",
   "nbconvert_exporter": "python",
   "pygments_lexer": "ipython3",
   "version": "3.11.7"
  }
 },
 "nbformat": 4,
 "nbformat_minor": 5
}
